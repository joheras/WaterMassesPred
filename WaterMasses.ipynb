{
 "cells": [
  {
   "cell_type": "markdown",
   "metadata": {},
   "source": [
    "# Water masses\n",
    "\n",
    "In this application, you can upload a csv file containing samples, and the model will return the composition of water masses. \n",
    "\n",
    "The csv file must contain the following columns:\n",
    "\n",
    "*  Lattitude\n",
    "*  Longitude\n",
    "*  Pressure\n",
    "*  Temperature\n",
    "*  Salinity\n",
    "\n",
    "You can download an example of this kind of csv file from this link:\n",
    "[https://www.dropbox.com/s/hon3r1zufws3i2u/reduced_GLODAPv2_cruise1042.csv?dl=0](https://www.dropbox.com/s/hon3r1zufws3i2u/reduced_GLODAPv2_cruise1042.csv?dl=1)."
   ]
  },
  {
   "cell_type": "code",
   "execution_count": 15,
   "metadata": {},
   "outputs": [
    {
     "data": {
      "application/vnd.jupyter.widget-view+json": {
       "model_id": "911333d199404301847dbbd751dbd8ab",
       "version_major": 2,
       "version_minor": 0
      },
      "text/plain": [
       "VBox(children=(Label(value='Upload your csv file!'), FileUpload(value={}, description='Upload')))"
      ]
     },
     "metadata": {},
     "output_type": "display_data"
    }
   ],
   "source": [
    "%%capture\n",
    "import warnings\n",
    "warnings.filterwarnings('ignore')\n",
    "import pandas as pd\n",
    "from joblib import load\n",
    "!wget --quiet https://www.dropbox.com/s/0rvywh4wa25uu8r/model_regr_et.joblib?dl=1 -O model_regr_et.joblib\n",
    "!wget --quiet https://www.dropbox.com/s/4yp3fsz68ci4xpd/AtlanticOceanDatabase_clean.csv?dl=1 -O AtlanticOceanDatabase_clean.csv\n",
    "clf = load('model_regr_et.joblib')\n",
    "dfOriginal = pd.read_csv('AtlanticOceanDatabase_clean.csv',delimiter=';',decimal=',')\n",
    "waterMasses = dfOriginal.columns[5:] \n",
    "from fastai.vision.widgets import *"
   ]
  },
  {
   "cell_type": "code",
   "execution_count": null,
   "metadata": {},
   "outputs": [],
   "source": [
    "btn_upload = widgets.FileUpload()\n",
    "\n",
    "\n",
    "def on_data_change(change):\n",
    "    with open('temp.csv','wb') as file:\n",
    "        file.write(btn_upload.data[0])\n",
    "    df  = pd.read_csv('temp.csv')\n",
    "    df1 = pd.concat([df,pd.DataFrame(columns = waterMasses, data= clf.predict(df.values[:,0:]))],axis=1)\n",
    "    df1.to_csv('results_'+btn_upload.metadata[0]['name'])\n",
    "    print(df1)\n",
    "    \n",
    "    \n",
    "btn_upload.observe(on_data_change, names=['data'])\n",
    "display(VBox([widgets.Label('Upload your csv file!'), btn_upload]))"
   ]
  }
 ],
 "metadata": {
  "kernelspec": {
   "display_name": "Python 3",
   "language": "python",
   "name": "python3"
  }
 },
 "nbformat": 4,
 "nbformat_minor": 2
}
